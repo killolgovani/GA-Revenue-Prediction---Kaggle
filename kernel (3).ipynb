{
  "cells": [
    {
      "metadata": {
        "_uuid": "8f2839f25d086af736a60e9eeb907d3b93b6e0e5",
        "_cell_guid": "b1076dfc-b9ad-4769-8c92-a6c4dae69d19",
        "trusted": true,
        "_kg_hide-input": true,
        "_kg_hide-output": true
      },
      "cell_type": "code",
      "source": "import os\nimport json\nimport datetime\nimport numpy as np\nimport pandas as pd\nimport lightgbm as lgb\nimport seaborn as sns\nimport matplotlib.pyplot as plt\nfrom pandas.io.json import json_normalize\nfrom sklearn.metrics import mean_squared_error\n\n%matplotlib inline\npd.options.display.max_columns = 999",
      "execution_count": null,
      "outputs": []
    },
    {
      "metadata": {
        "_kg_hide-input": true,
        "trusted": true,
        "_uuid": "1d3ed22fe6c41863c14c77d95e2d8e7bc3fce432"
      },
      "cell_type": "code",
      "source": "def add_time_features(df):\n    df['date'] = pd.to_datetime(df['date'], format='%Y%m%d', errors='ignore')\n    df['year'] = df['date'].apply(lambda x: x.year)\n    df['month'] = df['date'].apply(lambda x: x.month)\n    df['day'] = df['date'].apply(lambda x: x.day)\n    df['weekday'] = df['date'].apply(lambda x: x.weekday())\n    \n    return df",
      "execution_count": null,
      "outputs": []
    },
    {
      "metadata": {
        "_cell_guid": "79c7e3d0-c299-4dcb-8224-4455121ee9b0",
        "_uuid": "d629ff2d2480ee46fbb7e2d37f6b5fab8052498a",
        "trusted": true,
        "_kg_hide-input": true,
        "_kg_hide-output": false
      },
      "cell_type": "code",
      "source": "def load_df(csv_path='../input/train.csv', nrows=None):\n    JSON_COLUMNS = ['device', 'geoNetwork', 'totals', 'trafficSource']\n\n    df = pd.read_csv(csv_path, dtype={'fullVisitorId': 'str'}, nrows=nrows)\n\n    for column in JSON_COLUMNS:\n        df = df.join(pd.DataFrame(df.pop(column).apply(pd.io.json.loads).values.tolist(), index=df.index))\n\n    return df",
      "execution_count": null,
      "outputs": []
    },
    {
      "metadata": {
        "trusted": true,
        "_uuid": "42961d5e360501d9a04c9ee92acd731e403bd873",
        "_kg_hide-input": true
      },
      "cell_type": "code",
      "source": "train = load_df(\"../input/train.csv\")\ntest = load_df(\"../input/test.csv\")",
      "execution_count": null,
      "outputs": []
    },
    {
      "metadata": {
        "trusted": true,
        "_uuid": "37e4904b3a2a51aa384e648f1729c809aa63feea",
        "_kg_hide-input": true
      },
      "cell_type": "code",
      "source": "train.head()",
      "execution_count": null,
      "outputs": []
    },
    {
      "metadata": {
        "trusted": true,
        "_uuid": "3f37d338e4e2d27345c01ce60eb0fefc52aa011d"
      },
      "cell_type": "code",
      "source": "train = add_time_features(train)\ntest = add_time_features(test)\n# Convert feature types.\ntrain[\"transactionRevenue\"] = train[\"transactionRevenue\"].astype('float')\ntrain['hits'] = train['hits'].astype(float)\ntest['hits'] = test['hits'].astype(float)\ntrain['pageviews'] = train['pageviews'].astype(float)\ntest['pageviews'] = test['pageviews'].astype(float)",
      "execution_count": null,
      "outputs": []
    },
    {
      "metadata": {
        "trusted": true,
        "_uuid": "888e4348579f32341cc4fbe57a206525dec8acae",
        "_kg_hide-input": false
      },
      "cell_type": "code",
      "source": "# Train\ngp_fullVisitorId_train = train.groupby(['fullVisitorId']).agg('sum')\ngp_fullVisitorId_train['fullVisitorId'] = gp_fullVisitorId_train.index\ngp_fullVisitorId_train['mean_hits_per_day'] = gp_fullVisitorId_train.groupby(['day'])['hits'].transform('mean')\ngp_fullVisitorId_train['mean_pageviews_per_day'] = gp_fullVisitorId_train.groupby(['day'])['pageviews'].transform('mean')\ngp_fullVisitorId_train['sum_hits_per_day'] = gp_fullVisitorId_train.groupby(['day'])['hits'].transform('sum')\ngp_fullVisitorId_train['sum_pageviews_per_day'] = gp_fullVisitorId_train.groupby(['day'])['pageviews'].transform('sum')\ngp_fullVisitorId_train = gp_fullVisitorId_train[['fullVisitorId', 'mean_hits_per_day', 'mean_pageviews_per_day', 'sum_hits_per_day', 'sum_pageviews_per_day']]\ntrain = train.join(gp_fullVisitorId_train, on='fullVisitorId', how='inner', rsuffix='_')\ntrain.drop(['fullVisitorId_'], axis=1, inplace=True)\n\n# Test\ngp_fullVisitorId_test = test.groupby(['fullVisitorId']).agg('sum')\ngp_fullVisitorId_test['fullVisitorId'] = gp_fullVisitorId_test.index\ngp_fullVisitorId_test['mean_hits_per_day'] = gp_fullVisitorId_test.groupby(['day'])['hits'].transform('mean')\ngp_fullVisitorId_test['mean_pageviews_per_day'] = gp_fullVisitorId_test.groupby(['day'])['pageviews'].transform('mean')\ngp_fullVisitorId_test['sum_hits_per_day'] = gp_fullVisitorId_test.groupby(['day'])['hits'].transform('sum')\ngp_fullVisitorId_test['sum_pageviews_per_day'] = gp_fullVisitorId_test.groupby(['day'])['pageviews'].transform('sum')\ngp_fullVisitorId_test = gp_fullVisitorId_test[['fullVisitorId', 'mean_hits_per_day', 'mean_pageviews_per_day', 'sum_hits_per_day', 'sum_pageviews_per_day']]\ntest = test.join(gp_fullVisitorId_test, on='fullVisitorId', how='inner', rsuffix='_')\ntest.drop(['fullVisitorId_'], axis=1, inplace=True)",
      "execution_count": null,
      "outputs": []
    },
    {
      "metadata": {
        "trusted": true,
        "_uuid": "ce55b3e62a2d8c08dd550e60b8ffda83d86ebced"
      },
      "cell_type": "code",
      "source": "train.head()",
      "execution_count": null,
      "outputs": []
    },
    {
      "metadata": {
        "_kg_hide-input": true,
        "trusted": true,
        "_uuid": "13b91461a4de7726ce42e91e9cc440c3fc2a095f"
      },
      "cell_type": "code",
      "source": "time_agg = train.groupby('date')['transactionRevenue'].agg(['count', 'sum'])\nyear_agg = train.groupby('year')['transactionRevenue'].agg(['sum'])\nmonth_agg = train.groupby('month')['transactionRevenue'].agg(['sum'])\nday_agg = train.groupby('day')['transactionRevenue'].agg(['sum'])\nweekday_agg = train.groupby('weekday')['transactionRevenue'].agg(['count','sum'])",
      "execution_count": null,
      "outputs": []
    },
    {
      "metadata": {
        "trusted": true,
        "_uuid": "0a518b83d8655daf6011af0755112d7d76fb5f7f"
      },
      "cell_type": "code",
      "source": "train = train.drop(['adwordsClickInfo'], axis=1)\ntest = test.drop(['adwordsClickInfo'], axis=1)\n# Drop column that exists only in train data\ntrain = train.drop(['campaignCode'], axis=1)\n# Input missing transactionRevenue values\ntrain[\"transactionRevenue\"].fillna(0, inplace=True)\n\ntest_ids = test[\"fullVisitorId\"].values",
      "execution_count": null,
      "outputs": []
    },
    {
      "metadata": {
        "trusted": true,
        "_uuid": "aed9c5286317a4a99d6ad698da3f426d89482bc3"
      },
      "cell_type": "code",
      "source": "# Unwanted columns\nunwanted_columns = ['fullVisitorId', 'sessionId', 'visitId', 'visitStartTime', \n                    'browser', 'browserSize', 'browserVersion', 'flashVersion', \n                    'mobileDeviceInfo', 'mobileDeviceMarketingName', 'mobileDeviceModel', \n                    'mobileInputSelector', 'operatingSystemVersion', 'screenColors', \n                    'metro','networkDomain', 'networkLocation', 'adContent', 'campaign', \n                    'isTrueDirect', 'keyword', 'referralPath', 'source', 'operatingSystem', \n                    'day']\n\ntrain = train.drop(unwanted_columns, axis=1)\ntest = test.drop(unwanted_columns, axis=1)\n# Constant columns\nconstant_columns = [c for c in train.columns if train[c].nunique()<=1]\nprint('Columns with constant values: ', constant_columns)\ntrain = train.drop(constant_columns, axis=1)\ntest = test.drop(constant_columns, axis=1)\n# Columns with more than 50% null data\nhigh_null_columns = [c for c in train.columns if train[c].count()<=len(train) * 0.5]\nprint('Columns more than 50% null values: ', high_null_columns)\ntrain = train.drop(high_null_columns, axis=1)\ntest = test.drop(high_null_columns, axis=1)",
      "execution_count": null,
      "outputs": []
    },
    {
      "metadata": {
        "trusted": true,
        "_uuid": "dc26547fca1279cc668ca6b0218ad8be84632f6c",
        "_kg_hide-input": true
      },
      "cell_type": "code",
      "source": "print('TRAIN SET')\nprint('Rows: %s' % train.shape[0])\nprint('Columns: %s' % train.shape[1])\nprint('Features: %s' % train.columns.values)\nprint()\nprint('TEST SET')\nprint('Rows: %s' % test.shape[0])\nprint('Columns: %s' % test.shape[1])\nprint('Features: %s' % test.columns.values)",
      "execution_count": null,
      "outputs": []
    },
    {
      "metadata": {
        "trusted": true,
        "_uuid": "2f09858c65539245776bd32982adca00a83cd0b8",
        "_kg_hide-input": true
      },
      "cell_type": "code",
      "source": "train.head()",
      "execution_count": null,
      "outputs": []
    },
    {
      "metadata": {
        "trusted": true,
        "_uuid": "ea46ffcd3a8a252581b82b34efea67bca1d7c323"
      },
      "cell_type": "code",
      "source": "categorical_features = ['deviceCategory', 'isMobile', 'continent', 'month', 'weekday']\ntrain = pd.get_dummies(train, columns=categorical_features)\ntest = pd.get_dummies(test, columns=categorical_features)",
      "execution_count": null,
      "outputs": []
    },
    {
      "metadata": {
        "trusted": true,
        "_uuid": "d3cad54cc1308c8d860dd9a7be62240ecf2e41a6"
      },
      "cell_type": "code",
      "source": "# align both data sets (by outer join), to make they have the same amount of features,\n# this is required because of the mismatched categorical values in train and test sets\ntrain, test = train.align(test, join='outer', axis=1)\n\n# replace the nan values added by align for 0\ntrain.replace(to_replace=np.nan, value=0, inplace=True)\ntest.replace(to_replace=np.nan, value=0, inplace=True)",
      "execution_count": null,
      "outputs": []
    },
    {
      "metadata": {
        "trusted": true,
        "_uuid": "5e6053dd095976d91b58930556b81536dbb9e8ba",
        "_kg_hide-output": true
      },
      "cell_type": "code",
      "source": "X_train = train[train['date']<=datetime.date(2017, 5, 31)]\nX_val = train[train['date']>datetime.date(2017, 5, 31)]",
      "execution_count": null,
      "outputs": []
    },
    {
      "metadata": {
        "trusted": true,
        "_uuid": "41a6ecec90bfdc51b04d8f7e576123c88bb76c03"
      },
      "cell_type": "code",
      "source": "# Get labels\nY_train = X_train['transactionRevenue'].values\nY_val = X_val['transactionRevenue'].values\nX_train = X_train.drop(['transactionRevenue'], axis=1)\nX_val = X_val.drop(['transactionRevenue'], axis=1)\ntest = test.drop(['transactionRevenue'], axis=1)\n# Log transform the labels\nY_train = np.log1p(Y_train)\nY_val = np.log1p(Y_val)",
      "execution_count": null,
      "outputs": []
    },
    {
      "metadata": {
        "trusted": true,
        "_uuid": "319489402ef72e89cd3e755c56f4dad5fa66f621"
      },
      "cell_type": "code",
      "source": "reduce_features = ['city', 'medium', 'channelGrouping', \n                    'region', 'subContinent', 'date', 'country']\nX_train = X_train.drop(reduce_features, axis=1)\nX_val = X_val.drop(reduce_features, axis=1)\ntest = test.drop(reduce_features, axis=1)",
      "execution_count": null,
      "outputs": []
    },
    {
      "metadata": {
        "trusted": true,
        "_uuid": "bcc711dffb3ed0c9d37ea557fd013a11c25514cb"
      },
      "cell_type": "code",
      "source": "X_train = X_train.astype('float32')\nX_val = X_val.astype('float32')\ntest = test.astype('float32')",
      "execution_count": null,
      "outputs": []
    },
    {
      "metadata": {
        "trusted": true,
        "_uuid": "2b1bb7a3525f706c1025995e45f75f1585ed7823",
        "_kg_hide-output": false,
        "_kg_hide-input": true
      },
      "cell_type": "code",
      "source": "X_train.head()",
      "execution_count": null,
      "outputs": []
    },
    {
      "metadata": {
        "trusted": true,
        "_uuid": "6835a447460f64c9e82379046dc9690e94679a01",
        "_kg_hide-input": false
      },
      "cell_type": "code",
      "source": "params = {\n\"objective\" : \"regression\",\n\"metric\" : \"rmse\", \n\"num_leaves\" : 700,\n\"min_child_samples\" : 20,\n\"learning_rate\" : 0.003,\n\"bagging_fraction\" : 0.5,\n\"feature_fraction\" : 0.7,\n\"bagging_frequency\" : 1,\n\"bagging_seed\" : 11,\n\"lambda_l1\": 3,\n'min_data_in_leaf': 200\n}",
      "execution_count": null,
      "outputs": []
    },
    {
      "metadata": {
        "trusted": true,
        "_uuid": "f4458c97694da66e9547632accf0a474262e82de",
        "_kg_hide-output": true
      },
      "cell_type": "code",
      "source": "lgb_train = lgb.Dataset(X_train, label=Y_train)\nlgb_val = lgb.Dataset(X_val, label=Y_val)\nmodel = lgb.train(params, lgb_train, 10000, valid_sets=[lgb_train, lgb_val], early_stopping_rounds=100, verbose_eval=100)",
      "execution_count": null,
      "outputs": []
    },
    {
      "metadata": {
        "trusted": true,
        "_uuid": "4555d93b4d9ffeb2c4a1e786728680589d0c4dfc",
        "_kg_hide-input": true
      },
      "cell_type": "code",
      "source": "# Make prediction on validation data.\nval_predictions = model.predict(X_val, num_iteration=model.best_iteration)\n# Get min and max values of the predictions and labels.\nmin_val = max(max(val_predictions), max(Y_val))\nmax_val = min(min(val_predictions), min(Y_val))\n# Create dataframe with validation predicitons and labels.\nval_df = pd.DataFrame({\"Label\":Y_val})\nval_df[\"Prediction\"] = val_predictions",
      "execution_count": null,
      "outputs": []
    },
    {
      "metadata": {
        "_uuid": "50938fee9cbdd1d28efc3563d6771ae4c33d6000"
      },
      "cell_type": "markdown",
      "source": "### Model metrics"
    },
    {
      "metadata": {
        "trusted": true,
        "_uuid": "fd64aa4d52421ad956bd32549394b716956bb558",
        "_kg_hide-input": true
      },
      "cell_type": "code",
      "source": "val_predictions[val_predictions<0] = 0\nmse = mean_squared_error(val_predictions, Y_val)\nrmse = np.sqrt(mean_squared_error(val_predictions, Y_val))\n\nprint('Model validation metrics')\nprint('MSE: %.2f' % mse)\nprint('RMSE: %.2f' % rmse)",
      "execution_count": null,
      "outputs": []
    },
    {
      "metadata": {
        "trusted": true,
        "_uuid": "ac573253c4ab0f3649a62bccbb534e785bc2b151",
        "_kg_hide-output": false
      },
      "cell_type": "code",
      "source": "predictions = model.predict(test, num_iteration=model.best_iteration)\n\nsubmission = pd.DataFrame({\"fullVisitorId\":test_ids})\npredictions[predictions<0] = 0\nsubmission[\"PredictedLogRevenue\"] = predictions\nsubmission = submission.groupby(\"fullVisitorId\")[\"PredictedLogRevenue\"].sum().reset_index()\nsubmission.columns = [\"fullVisitorId\", \"PredictedLogRevenue\"]\nsubmission[\"PredictedLogRevenue\"] = submission[\"PredictedLogRevenue\"]\nsubmission.to_csv(\"submission.csv\", index=False) ",
      "execution_count": null,
      "outputs": []
    }
  ],
  "metadata": {
    "kernelspec": {
      "display_name": "Python 3",
      "language": "python",
      "name": "python3"
    },
    "language_info": {
      "name": "python",
      "version": "3.6.6",
      "mimetype": "text/x-python",
      "codemirror_mode": {
        "name": "ipython",
        "version": 3
      },
      "pygments_lexer": "ipython3",
      "nbconvert_exporter": "python",
      "file_extension": ".py"
    }
  },
  "nbformat": 4,
  "nbformat_minor": 1
}